{
 "cells": [
  {
   "cell_type": "code",
   "execution_count": 1,
   "id": "7ff3c623",
   "metadata": {},
   "outputs": [],
   "source": [
    "import pandas as pd\n",
    "import datetime\n",
    "import numpy as np\n",
    "from nltk.stem import PorterStemmer\n",
    "from nltk.tokenize import RegexpTokenizer"
   ]
  },
  {
   "cell_type": "code",
   "execution_count": 2,
   "id": "e6717b31",
   "metadata": {},
   "outputs": [],
   "source": [
    "tick = pd.read_csv('../input/FFF/FFF_tick_within_window.csv')"
   ]
  },
  {
   "cell_type": "code",
   "execution_count": 3,
   "id": "d1a3f4f4",
   "metadata": {},
   "outputs": [
    {
     "data": {
      "text/plain": [
       "Index(['date', 'Date-Time(EST)', '#RIC', 'Price', 'Statement Release Time',\n",
       "       'Press Conference Start Time', 'scripted_end', 'pc_end',\n",
       "       'months_to_exp'],\n",
       "      dtype='object')"
      ]
     },
     "execution_count": 3,
     "metadata": {},
     "output_type": "execute_result"
    }
   ],
   "source": [
    "tick.columns"
   ]
  },
  {
   "cell_type": "code",
   "execution_count": 4,
   "id": "67804ce8",
   "metadata": {},
   "outputs": [],
   "source": [
    "tick['Timestamp']=tick['Date-Time(EST)'].apply(lambda x: datetime.datetime.timestamp(datetime.datetime.strptime(x[:-6],'%Y-%m-%d %H:%M:%S.%f')))"
   ]
  },
  {
   "cell_type": "code",
   "execution_count": 5,
   "id": "49b878b6",
   "metadata": {},
   "outputs": [
    {
     "data": {
      "text/html": [
       "<div>\n",
       "<style scoped>\n",
       "    .dataframe tbody tr th:only-of-type {\n",
       "        vertical-align: middle;\n",
       "    }\n",
       "\n",
       "    .dataframe tbody tr th {\n",
       "        vertical-align: top;\n",
       "    }\n",
       "\n",
       "    .dataframe thead th {\n",
       "        text-align: right;\n",
       "    }\n",
       "</style>\n",
       "<table border=\"1\" class=\"dataframe\">\n",
       "  <thead>\n",
       "    <tr style=\"text-align: right;\">\n",
       "      <th></th>\n",
       "      <th>date</th>\n",
       "      <th>Date-Time(EST)</th>\n",
       "      <th>#RIC</th>\n",
       "      <th>Price</th>\n",
       "      <th>Statement Release Time</th>\n",
       "      <th>Press Conference Start Time</th>\n",
       "      <th>scripted_end</th>\n",
       "      <th>pc_end</th>\n",
       "      <th>months_to_exp</th>\n",
       "      <th>Timestamp</th>\n",
       "    </tr>\n",
       "  </thead>\n",
       "  <tbody>\n",
       "    <tr>\n",
       "      <th>0</th>\n",
       "      <td>2012-04-25 00:00:00.000</td>\n",
       "      <td>2012-04-25 12:18:10.490077-04:00</td>\n",
       "      <td>FFK2</td>\n",
       "      <td>99.865</td>\n",
       "      <td>2012-04-25 12:30:00.000</td>\n",
       "      <td>2012-04-25 14:15:00.000</td>\n",
       "      <td>2012-04-25 14:19:35.640</td>\n",
       "      <td>2012-04-25 15:06:23.400</td>\n",
       "      <td>1</td>\n",
       "      <td>1.335371e+09</td>\n",
       "    </tr>\n",
       "    <tr>\n",
       "      <th>1</th>\n",
       "      <td>2012-04-25 00:00:00.000</td>\n",
       "      <td>2012-04-25 12:18:10.490077-04:00</td>\n",
       "      <td>FFK2</td>\n",
       "      <td>99.865</td>\n",
       "      <td>2012-04-25 12:30:00.000</td>\n",
       "      <td>2012-04-25 14:15:00.000</td>\n",
       "      <td>2012-04-25 14:19:35.640</td>\n",
       "      <td>2012-04-25 15:06:23.400</td>\n",
       "      <td>1</td>\n",
       "      <td>1.335371e+09</td>\n",
       "    </tr>\n",
       "    <tr>\n",
       "      <th>2</th>\n",
       "      <td>2012-04-25 00:00:00.000</td>\n",
       "      <td>2012-04-25 12:18:10.490077-04:00</td>\n",
       "      <td>FFK2</td>\n",
       "      <td>99.865</td>\n",
       "      <td>2012-04-25 12:30:00.000</td>\n",
       "      <td>2012-04-25 14:15:00.000</td>\n",
       "      <td>2012-04-25 14:19:35.640</td>\n",
       "      <td>2012-04-25 15:06:23.400</td>\n",
       "      <td>1</td>\n",
       "      <td>1.335371e+09</td>\n",
       "    </tr>\n",
       "    <tr>\n",
       "      <th>3</th>\n",
       "      <td>2012-04-25 00:00:00.000</td>\n",
       "      <td>2012-04-25 12:18:10.493973-04:00</td>\n",
       "      <td>FFK2</td>\n",
       "      <td>99.865</td>\n",
       "      <td>2012-04-25 12:30:00.000</td>\n",
       "      <td>2012-04-25 14:15:00.000</td>\n",
       "      <td>2012-04-25 14:19:35.640</td>\n",
       "      <td>2012-04-25 15:06:23.400</td>\n",
       "      <td>1</td>\n",
       "      <td>1.335371e+09</td>\n",
       "    </tr>\n",
       "    <tr>\n",
       "      <th>4</th>\n",
       "      <td>2012-04-25 00:00:00.000</td>\n",
       "      <td>2012-04-25 12:22:12.994806-04:00</td>\n",
       "      <td>FFK2</td>\n",
       "      <td>99.865</td>\n",
       "      <td>2012-04-25 12:30:00.000</td>\n",
       "      <td>2012-04-25 14:15:00.000</td>\n",
       "      <td>2012-04-25 14:19:35.640</td>\n",
       "      <td>2012-04-25 15:06:23.400</td>\n",
       "      <td>1</td>\n",
       "      <td>1.335371e+09</td>\n",
       "    </tr>\n",
       "  </tbody>\n",
       "</table>\n",
       "</div>"
      ],
      "text/plain": [
       "                      date                    Date-Time(EST)  #RIC   Price  \\\n",
       "0  2012-04-25 00:00:00.000  2012-04-25 12:18:10.490077-04:00  FFK2  99.865   \n",
       "1  2012-04-25 00:00:00.000  2012-04-25 12:18:10.490077-04:00  FFK2  99.865   \n",
       "2  2012-04-25 00:00:00.000  2012-04-25 12:18:10.490077-04:00  FFK2  99.865   \n",
       "3  2012-04-25 00:00:00.000  2012-04-25 12:18:10.493973-04:00  FFK2  99.865   \n",
       "4  2012-04-25 00:00:00.000  2012-04-25 12:22:12.994806-04:00  FFK2  99.865   \n",
       "\n",
       "    Statement Release Time Press Conference Start Time  \\\n",
       "0  2012-04-25 12:30:00.000     2012-04-25 14:15:00.000   \n",
       "1  2012-04-25 12:30:00.000     2012-04-25 14:15:00.000   \n",
       "2  2012-04-25 12:30:00.000     2012-04-25 14:15:00.000   \n",
       "3  2012-04-25 12:30:00.000     2012-04-25 14:15:00.000   \n",
       "4  2012-04-25 12:30:00.000     2012-04-25 14:15:00.000   \n",
       "\n",
       "              scripted_end                   pc_end  months_to_exp  \\\n",
       "0  2012-04-25 14:19:35.640  2012-04-25 15:06:23.400              1   \n",
       "1  2012-04-25 14:19:35.640  2012-04-25 15:06:23.400              1   \n",
       "2  2012-04-25 14:19:35.640  2012-04-25 15:06:23.400              1   \n",
       "3  2012-04-25 14:19:35.640  2012-04-25 15:06:23.400              1   \n",
       "4  2012-04-25 14:19:35.640  2012-04-25 15:06:23.400              1   \n",
       "\n",
       "      Timestamp  \n",
       "0  1.335371e+09  \n",
       "1  1.335371e+09  \n",
       "2  1.335371e+09  \n",
       "3  1.335371e+09  \n",
       "4  1.335371e+09  "
      ]
     },
     "execution_count": 5,
     "metadata": {},
     "output_type": "execute_result"
    }
   ],
   "source": [
    "tick.head()"
   ]
  },
  {
   "cell_type": "code",
   "execution_count": 6,
   "id": "6494c2ae",
   "metadata": {},
   "outputs": [],
   "source": [
    "from utils import agg_to_kline"
   ]
  },
  {
   "cell_type": "code",
   "execution_count": 7,
   "id": "179e6874",
   "metadata": {},
   "outputs": [],
   "source": [
    "res = []\n",
    "interval = 1\n",
    "for i in tick.groupby('date'):\n",
    "    a = agg_to_kline(i[1],interval)\n",
    "    #fill empty timeslots\n",
    "    t1 = datetime.datetime.timestamp(datetime.datetime.strptime(i[1]['Press Conference Start Time'].iloc[0],'%Y-%m-%d %H:%M:%S.%f'))\n",
    "    t2 = datetime.datetime.timestamp(datetime.datetime.strptime(i[1]['pc_end'].iloc[0],'%Y-%m-%d %H:%M:%S.%f'))\n",
    "    num_groups = int((t2 - t1)//interval)+1\n",
    "    group_list = np.array([i for i in range(num_groups)])+t1//interval\n",
    "    group = group_list[np.isin(group_list,a['group'].values,invert=True)]\n",
    "    app = pd.DataFrame()\n",
    "    app['group'] = group\n",
    "    app['Num_Trades'] = 0\n",
    "    app['OpenTime'] = app['group'].apply(lambda x: x*interval)  \n",
    "    _ = pd.concat([a,app]).sort_values(by='group')\n",
    "    pp = _[_['group']>=group_list[0]]\n",
    "    pp = pp[pp['group']<=group_list[-1]]\n",
    "    pp['Trade_Or_Not'] = pp['Num_Trades'] > 0\n",
    "    pp['Date'] = i[0]\n",
    "    res.append(pp[['OpenTime','Date','Num_Trades','Trade_Or_Not']].reset_index(drop=True))"
   ]
  },
  {
   "cell_type": "code",
   "execution_count": 10,
   "id": "f048cc04",
   "metadata": {},
   "outputs": [],
   "source": [
    "import os\n",
    "conferences=[]\n",
    "file_list = []\n",
    "directory = os.path.join(\"../input/map/\")\n",
    "for root,dirs,files in os.walk(directory):\n",
    "    for file in files:\n",
    "        if file.endswith(\"sent.csv\"):\n",
    "            if file[:8] in ['20200303','20200315','20220615']:\n",
    "                continue\n",
    "            file_list.append(file[:8])\n",
    "            conferences.append(pd.read_csv(directory+file,names=['id', 'start_time', 'end_time', 'content']))"
   ]
  },
  {
   "cell_type": "code",
   "execution_count": 11,
   "id": "40066b71",
   "metadata": {},
   "outputs": [
    {
     "data": {
      "text/plain": [
       "53"
      ]
     },
     "execution_count": 11,
     "metadata": {},
     "output_type": "execute_result"
    }
   ],
   "source": [
    "len(conferences)"
   ]
  },
  {
   "cell_type": "code",
   "execution_count": 12,
   "id": "4cd43254",
   "metadata": {},
   "outputs": [],
   "source": [
    "p_conferences=[]\n",
    "for i in conferences:\n",
    "    temp = pd.DataFrame()\n",
    "    temp['start_time'] = i['start_time'].apply(lambda x: np.round(x))\n",
    "    temp['end_time'] = i['end_time'].apply(lambda x: np.round(x))\n",
    "    temp['content'] = i['content']\n",
    "    p_conferences.append(temp)"
   ]
  },
  {
   "cell_type": "code",
   "execution_count": 13,
   "id": "255afc61",
   "metadata": {},
   "outputs": [
    {
     "data": {
      "text/plain": [
       "53"
      ]
     },
     "execution_count": 13,
     "metadata": {},
     "output_type": "execute_result"
    }
   ],
   "source": [
    "len(p_conferences)"
   ]
  },
  {
   "cell_type": "code",
   "execution_count": 14,
   "id": "8baefc22",
   "metadata": {},
   "outputs": [],
   "source": [
    "ps = PorterStemmer()\n",
    "tokenizer = RegexpTokenizer(r'\\w+')\n",
    "def content_to_words(x):\n",
    "    \"\"\"This function removes punctuations and stems the words\"\"\"\n",
    "    return [ps.stem(word) for word in tokenizer.tokenize(x)]"
   ]
  },
  {
   "cell_type": "code",
   "execution_count": 15,
   "id": "abcb6415",
   "metadata": {},
   "outputs": [],
   "source": [
    "count = []\n",
    "to_add = []\n",
    "def sentence_to_instance(sent, word_per_sec=4):\n",
    "    global count\n",
    "    global to_add\n",
    "    duration = sent['duration']\n",
    "    if duration == 0:\n",
    "        to_add = sent['content_list']\n",
    "        return np.nan\n",
    "    length = int(duration*word_per_sec)\n",
    "    arry = np.array(['[QUIET]' for _ in range(length)],dtype='object')\n",
    "    if to_add is []:\n",
    "        content = sent['content_list']\n",
    "    else:\n",
    "        content = sent['content_list'] + to_add\n",
    "        to_add = []\n",
    "    start = max(length-len(content), 0)\n",
    "    for i,j in enumerate(content):\n",
    "        if i == length:\n",
    "            count.append(len(content)-length)\n",
    "            break\n",
    "        group = duration - i//duration - 1\n",
    "        index = i%word_per_sec\n",
    "        position = group *word_per_sec + index\n",
    "        arry[start+int(i)] = j\n",
    "    return arry"
   ]
  },
  {
   "cell_type": "code",
   "execution_count": 16,
   "id": "1440bd6b",
   "metadata": {},
   "outputs": [],
   "source": [
    "word_speed=[]\n",
    "for i in p_conferences:\n",
    "    i['content_list'] = i['content'].apply(content_to_words)\n",
    "    i['Num_words'] = i['content_list'].apply(len)\n",
    "    i['duration']= i['end_time']-i['start_time']\n",
    "    i['word_speed']=i['Num_words']/(i['duration']+1)\n",
    "    i['token_list'] = i.apply(sentence_to_instance, 1)\n"
   ]
  },
  {
   "cell_type": "code",
   "execution_count": 17,
   "id": "c3289c5a",
   "metadata": {
    "scrolled": true
   },
   "outputs": [
    {
     "data": {
      "text/plain": [
       "5016"
      ]
     },
     "execution_count": 17,
     "metadata": {},
     "output_type": "execute_result"
    }
   ],
   "source": [
    "x = np.concatenate(pd.concat(p_conferences)['content_list'].values)\n",
    "unique_words = sorted(set(x))\n",
    "len(unique_words)"
   ]
  },
  {
   "cell_type": "code",
   "execution_count": 22,
   "id": "a3984f89",
   "metadata": {},
   "outputs": [],
   "source": [
    "final = []\n",
    "for i in p_conferences:\n",
    "    i = i.dropna()\n",
    "    final_ = np.concatenate(i['token_list'].values)\n",
    "    final.append(final_.reshape(-1,4))"
   ]
  },
  {
   "cell_type": "code",
   "execution_count": 23,
   "id": "30097501",
   "metadata": {
    "scrolled": true
   },
   "outputs": [
    {
     "data": {
      "text/plain": [
       "(53, 53)"
      ]
     },
     "execution_count": 23,
     "metadata": {},
     "output_type": "execute_result"
    }
   ],
   "source": [
    "len(res),len(final)"
   ]
  },
  {
   "cell_type": "code",
   "execution_count": 34,
   "id": "7e6c7bfd",
   "metadata": {},
   "outputs": [],
   "source": [
    "data = []\n",
    "for i,j in zip(res, final):\n",
    "    temp_d = pd.DataFrame()\n",
    "    if len(i) != len(j):\n",
    "        i=i[:-1]\n",
    "    temp_d['OpenTime']=i['OpenTime']\n",
    "    temp_d['Date']=i['Date']\n",
    "    temp_d['Num_Trades']=i['Num_Trades']\n",
    "    temp_d['Trade_Or_Not']=i['Trade_Or_Not']\n",
    "    \n",
    "    temp_w = pd.DataFrame(j,columns=['Word1','Word2','Word3','Word4'])\n",
    "    temp = pd.concat([temp_d,temp_w],axis=1)\n",
    "    data.append(temp)"
   ]
  },
  {
   "cell_type": "code",
   "execution_count": 36,
   "id": "b95d76e7",
   "metadata": {},
   "outputs": [],
   "source": [
    "final_raw = pd.concat(data).reset_index(drop=True)"
   ]
  },
  {
   "cell_type": "code",
   "execution_count": 37,
   "id": "75a9283b",
   "metadata": {},
   "outputs": [
    {
     "data": {
      "text/plain": [
       "False    0.916449\n",
       "True     0.083551\n",
       "Name: Trade_Or_Not, dtype: float64"
      ]
     },
     "execution_count": 37,
     "metadata": {},
     "output_type": "execute_result"
    }
   ],
   "source": [
    "final_raw['Trade_Or_Not'].value_counts(normalize=True)"
   ]
  },
  {
   "cell_type": "code",
   "execution_count": 38,
   "id": "7eed7901",
   "metadata": {},
   "outputs": [],
   "source": [
    "final_raw.to_csv('../input/processed/word_per_sec_with_trades.csv',index=False)"
   ]
  }
 ],
 "metadata": {
  "kernelspec": {
   "display_name": "Python 3 (ipykernel)",
   "language": "python",
   "name": "python3"
  },
  "language_info": {
   "codemirror_mode": {
    "name": "ipython",
    "version": 3
   },
   "file_extension": ".py",
   "mimetype": "text/x-python",
   "name": "python",
   "nbconvert_exporter": "python",
   "pygments_lexer": "ipython3",
   "version": "3.9.7"
  },
  "vscode": {
   "interpreter": {
    "hash": "aee8b7b246df8f9039afb4144a1f6fd8d2ca17a180786b69acc140d282b71a49"
   }
  }
 },
 "nbformat": 4,
 "nbformat_minor": 5
}
